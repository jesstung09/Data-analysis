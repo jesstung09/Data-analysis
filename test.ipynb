{
 "cells": [
  {
   "cell_type": "code",
   "execution_count": 1,
   "metadata": {},
   "outputs": [],
   "source": [
    "import os\n",
    "from os.path import abspath, join, getsize"
   ]
  },
  {
   "cell_type": "code",
   "execution_count": 20,
   "metadata": {},
   "outputs": [
    {
     "name": "stdout",
     "output_type": "stream",
     "text": [
      "9\n",
      "path: /workspaces/Data-analysis/test.ipynb size: 3392\n",
      "path: /workspaces/Data-analysis/.git/hooks/pre-rebase.sample size: 4898\n",
      "path: /workspaces/Data-analysis/.git/hooks/prepare-commit-msg.sample size: 1492\n",
      "path: /workspaces/Data-analysis/.git/hooks/update.sample size: 3650\n",
      "path: /workspaces/Data-analysis/.git/hooks/fsmonitor-watchman.sample size: 4655\n",
      "path: /workspaces/Data-analysis/.git/hooks/push-to-checkout.sample size: 2783\n",
      "path: /workspaces/Data-analysis/.git/hooks/pre-commit.sample size: 1643\n",
      "path: /workspaces/Data-analysis/.git/hooks/pre-push.sample size: 1374\n",
      "path: /workspaces/Data-analysis/.git/objects/pack/pack-e3c4fb0d9c648537e5839b70a6936925806801df.idx size: 1156\n"
     ]
    }
   ],
   "source": [
    "sizes = {}\n",
    "count = 0\n",
    "for top_dir, directories, files in os.walk('.'):\n",
    "    for _file in files:\n",
    "        full_path = abspath(join(top_dir,_file))\n",
    "        size = getsize(full_path)\n",
    "        # print(type(size))\n",
    "        if size > 1000:\n",
    "            sizes[full_path] = size\n",
    "            count += 1\n",
    "sorted_results = sorted(sizes, key = lambda x:x[1])\n",
    "print(count)\n",
    "for i in sorted_results:\n",
    "    print(\"path: {0} size: {1}\".format(i, sizes[i]))\n"
   ]
  }
 ],
 "metadata": {
  "kernelspec": {
   "display_name": "Python 3",
   "language": "python",
   "name": "python3"
  },
  "language_info": {
   "codemirror_mode": {
    "name": "ipython",
    "version": 3
   },
   "file_extension": ".py",
   "mimetype": "text/x-python",
   "name": "python",
   "nbconvert_exporter": "python",
   "pygments_lexer": "ipython3",
   "version": "3.10.13"
  }
 },
 "nbformat": 4,
 "nbformat_minor": 2
}
